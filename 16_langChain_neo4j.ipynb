{
 "cells": [
  {
   "cell_type": "code",
   "execution_count": null,
   "metadata": {},
   "outputs": [],
   "source": [
    "! pip install langchain langchain-community neo4j"
   ]
  },
  {
   "cell_type": "markdown",
   "metadata": {},
   "source": [
    "Vector Search"
   ]
  },
  {
   "cell_type": "code",
   "execution_count": 22,
   "metadata": {},
   "outputs": [
    {
     "name": "stderr",
     "output_type": "stream",
     "text": [
      "Created a chunk of size 472, which is longer than the specified 100\n",
      "Created a chunk of size 440, which is longer than the specified 100\n",
      "Created a chunk of size 243, which is longer than the specified 100\n",
      "Created a chunk of size 235, which is longer than the specified 100\n",
      "Created a chunk of size 518, which is longer than the specified 100\n",
      "Created a chunk of size 408, which is longer than the specified 100\n",
      "Created a chunk of size 1198, which is longer than the specified 100\n",
      "Created a chunk of size 488, which is longer than the specified 100\n",
      "Created a chunk of size 461, which is longer than the specified 100\n",
      "Created a chunk of size 416, which is longer than the specified 100\n",
      "Created a chunk of size 218, which is longer than the specified 100\n",
      "Created a chunk of size 328, which is longer than the specified 100\n",
      "Created a chunk of size 395, which is longer than the specified 100\n"
     ]
    }
   ],
   "source": [
    "from langchain.docstore.document import Document\n",
    "from langchain.text_splitter import CharacterTextSplitter\n",
    "from langchain_community.document_loaders import TextLoader\n",
    "from langchain_community.vectorstores import Neo4jVector\n",
    "from langchain_openai import OpenAIEmbeddings\n",
    "from langchain_community.embeddings.ollama import OllamaEmbeddings\n",
    "\n",
    "\n",
    "url = \"bolt://localhost:7687\"\n",
    "username=\"neo4j\"\n",
    "password=\"password\"\n",
    "\n",
    "loader = TextLoader(\"/home/jonot480/Documents/paulgraham.txt\")\n",
    "documents = loader.load()\n",
    "text_splitter = CharacterTextSplitter(chunk_size=100, chunk_overlap=50)\n",
    "docs = text_splitter.split_documents(documents)\n",
    "\n",
    "embeddings = OllamaEmbeddings(model=\"nomic-embed-text\")\n",
    "\n",
    "# The Neo4jVector Module will connect to Neo4j and create a vector index if needed.\n",
    "\n",
    "db = Neo4jVector.from_documents(\n",
    "    docs, embeddings, url=url, username=username, password=password\n",
    ")\n",
    "\n",
    "query = \"What is Charlie good at?\"\n",
    "docs_with_score = db.similarity_search_with_score(query, k=2)"
   ]
  },
  {
   "cell_type": "markdown",
   "metadata": {},
   "source": [
    "Metadata Filtering"
   ]
  },
  {
   "cell_type": "code",
   "execution_count": 23,
   "metadata": {},
   "outputs": [
    {
     "name": "stdout",
     "output_type": "stream",
     "text": [
      "[Document(page_content='The idea that there could be fierce nerds is an unfamiliar one not just to many normal people but even to some young nerds. Charlie is good at math.  Especially early on, nerds spend so much of their time in ordinary social situations and so little doing real work that they get a lot more evidence of their awkwardness than their power. So there will be some who read this description of the fierce nerd and realize \"Hmm, that\\'s me.\" And it is to you, young fierce nerd, that I now turn.', metadata={'source': '/home/jonot480/Documents/paulgraham.txt'}), Document(page_content='The idea that there could be fierce nerds is an unfamiliar one not just to many normal people but even to some young nerds. Charlie is good at math.  Especially early on, nerds spend so much of their time in ordinary social situations and so little doing real work that they get a lot more evidence of their awkwardness than their power. So there will be some who read this description of the fierce nerd and realize \"Hmm, that\\'s me.\" And it is to you, young fierce nerd, that I now turn.', metadata={'source': '/home/jonot480/Documents/paulgraham.txt'}), Document(page_content='The idea that there could be fierce nerds is an unfamiliar one not just to many normal people but even to some young nerds. Charlie is good at math.  Especially early on, nerds spend so much of their time in ordinary social situations and so little doing real work that they get a lot more evidence of their awkwardness than their power. So there will be some who read this description of the fierce nerd and realize \"Hmm, that\\'s me.\" And it is to you, young fierce nerd, that I now turn.\\n\\nI have some good news, and some bad news. The good news is that your fierceness will be a great help in solving difficult problems like finding the effective date. And not just the kind of scientific and technical problems that nerds have traditionally solved. As the world progresses, the number of things you can win at by getting the right answer increases. Recently getting rich became one of them: 7 of the 8 richest people in America are now fierce nerds.', metadata={'source': '/home/jonot480/Documents/paulgraham.txt'}), Document(page_content='The idea that there could be fierce nerds is an unfamiliar one not just to many normal people but even to some young nerds. Charlie is good at math.  Especially early on, nerds spend so much of their time in ordinary social situations and so little doing real work that they get a lot more evidence of their awkwardness than their power. So there will be some who read this description of the fierce nerd and realize \"Hmm, that\\'s me.\" And it is to you, young fierce nerd, that I now turn.\\n\\nI have some good news, and some bad news. The good news is that your fierceness will be a great help in solving difficult problems like finding the effective date. And not just the kind of scientific and technical problems that nerds have traditionally solved. As the world progresses, the number of things you can win at by getting the right answer increases. Recently getting rich became one of them: 7 of the 8 richest people in America are now fierce nerds.', metadata={'source': '/home/jonot480/Documents/paulgraham.txt'})]\n"
     ]
    }
   ],
   "source": [
    "db = Neo4jVector.from_documents(\n",
    "    docs,\n",
    "    embeddings,\n",
    "    url=url, username=username, password=password\n",
    ")\n",
    "\n",
    "query = \"What is Charlie good at?\"\n",
    "filter = {\"name\": {\"$eq\": \"charlie\"}}\n",
    "\n",
    "docs = db.similarity_search(query, filter=filter)\n",
    "print(docs)"
   ]
  },
  {
   "cell_type": "markdown",
   "metadata": {},
   "source": [
    "Neo4j Graph"
   ]
  },
  {
   "cell_type": "code",
   "execution_count": null,
   "metadata": {},
   "outputs": [],
   "source": [
    "from langchain_community.graphs import Neo4jGraph\n",
    "\n",
    "graph = Neo4jGraph(url=url, username=username, password=password)\n",
    "\n",
    "QUERY = \"\"\"\n",
    "MATCH (bacon:Person {name:\"Kevin Bacon\"})-[*1..4]-(hollywood)\n",
    "RETURN DISTINCT hollywood\n",
    "\"\"\"\n",
    "\n",
    "graph.query(QUERY)"
   ]
  },
  {
   "cell_type": "code",
   "execution_count": null,
   "metadata": {},
   "outputs": [],
   "source": []
  },
  {
   "cell_type": "code",
   "execution_count": null,
   "metadata": {},
   "outputs": [],
   "source": []
  },
  {
   "cell_type": "code",
   "execution_count": null,
   "metadata": {},
   "outputs": [],
   "source": []
  },
  {
   "cell_type": "code",
   "execution_count": null,
   "metadata": {},
   "outputs": [],
   "source": []
  },
  {
   "cell_type": "code",
   "execution_count": null,
   "metadata": {},
   "outputs": [],
   "source": []
  },
  {
   "cell_type": "code",
   "execution_count": null,
   "metadata": {},
   "outputs": [],
   "source": []
  }
 ],
 "metadata": {
  "kernelspec": {
   "display_name": "myenv",
   "language": "python",
   "name": "python3"
  },
  "language_info": {
   "codemirror_mode": {
    "name": "ipython",
    "version": 3
   },
   "file_extension": ".py",
   "mimetype": "text/x-python",
   "name": "python",
   "nbconvert_exporter": "python",
   "pygments_lexer": "ipython3",
   "version": "3.10.12"
  }
 },
 "nbformat": 4,
 "nbformat_minor": 2
}
