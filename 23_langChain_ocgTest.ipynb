{
 "cells": [
  {
   "cell_type": "code",
   "execution_count": null,
   "metadata": {},
   "outputs": [],
   "source": [
    "! pip --upgrade --quiet install arize-phoenix[evals]"
   ]
  },
  {
   "cell_type": "code",
   "execution_count": null,
   "metadata": {},
   "outputs": [],
   "source": [
    "#invoke tracing via phoenix\n",
    "from phoenix.trace.langchain import LangChainInstrumentor\n",
    "\n",
    "LangChainInstrumentor().instrument()"
   ]
  },
  {
   "cell_type": "code",
   "execution_count": 57,
   "metadata": {},
   "outputs": [],
   "source": [
    "import weaviate\n",
    "\n",
    "client = weaviate.Client(\"http://localhost:8081\")\n",
    "weaviate_client = weaviate.connect_to_local(\"localhost\",\"8081\")#v4\n",
    "index_name=\"Phoenix_test\""
   ]
  },
  {
   "cell_type": "code",
   "execution_count": 68,
   "metadata": {},
   "outputs": [
    {
     "data": {
      "text/plain": [
       "{}"
      ]
     },
     "execution_count": 68,
     "metadata": {},
     "output_type": "execute_result"
    }
   ],
   "source": [
    "weaviate_client.collections.delete_all()\n",
    "weaviate_client.collections.list_all()"
   ]
  },
  {
   "cell_type": "code",
   "execution_count": null,
   "metadata": {},
   "outputs": [],
   "source": [
    "from weaviate.classes.config import Configure\n",
    "from weaviate.classes.config import Property, DataType\n",
    "\n",
    "weaviate_client.collections.create(\n",
    "    index_name,\n",
    "    #see notes above re: the docker modules that need to be enabled for text2vec* to work correctly -e ENABLE_MODULES=text2vec-ollama\n",
    "    vectorizer_config=Configure.Vectorizer.text2vec_ollama( \n",
    "        model=\"nomic-embed-text\",    \n",
    "        api_endpoint=\"http://host.docker.internal:11434\",\n",
    "    ),\n",
    "    # generative_config=Configure.Generative.ollama(\n",
    "    #     api_endpoint = \"http://host.docker.internal:11434\",\n",
    "    #     model=\"jonphi\"\n",
    "    # ),\n",
    "\n",
    "    # properties=[\n",
    "    #     Property(name=\"page_content\", data_type=DataType.TEXT),\n",
    "    #     Property(name=\"source\", data_type=DataType.INT),\n",
    "    # ]\n",
    "\n",
    ")"
   ]
  },
  {
   "cell_type": "code",
   "execution_count": 71,
   "metadata": {},
   "outputs": [],
   "source": [
    "from langchain_community.document_loaders import TextLoader\n",
    "from langchain.text_splitter import RecursiveCharacterTextSplitter\n",
    "from langchain.text_splitter import CharacterTextSplitter\n",
    "import pprint\n",
    "\n",
    "loader = TextLoader(\"/home/jonot480/Documents/Coke OCG.txt\")\n",
    "documents = loader.load()\n",
    "text_splitter = RecursiveCharacterTextSplitter(chunk_size=1000,chunk_overlap=100)\n",
    "docs = text_splitter.split_documents(documents)\n",
    "#print(*docs, sep='\\n')"
   ]
  },
  {
   "cell_type": "code",
   "execution_count": 72,
   "metadata": {},
   "outputs": [],
   "source": [
    "from langchain_community.vectorstores.weaviate import Weaviate\n",
    "from langchain_community.embeddings.ollama import OllamaEmbeddings\n",
    "\n",
    "weav = Weaviate.from_documents(\n",
    "    docs, \n",
    "    embedding=OllamaEmbeddings(model='nomic-embed-text'),\n",
    "    client=client,    \n",
    "    index_name=index_name,\n",
    "    #prefer_grpc=True, \n",
    ") "
   ]
  },
  {
   "cell_type": "code",
   "execution_count": null,
   "metadata": {},
   "outputs": [],
   "source": [
    "collection = weaviate_client.collections.get(index_name)\n",
    "response = collection.query.fetch_objects()\n",
    "\n",
    "for o in response.objects:\n",
    "    print(o.properties)  # Inspect returned objects\n",
    "    #print(o.properties[\"text\"])\n"
   ]
  },
  {
   "cell_type": "code",
   "execution_count": 74,
   "metadata": {},
   "outputs": [
    {
     "name": "stdout",
     "output_type": "stream",
     "text": [
      "[Document(page_content='Unless agreed otherwise with Contact Counsel, Outside Counsel shall submit monthly invoices for\\nlegal services provided to Coca-Cola HBC if the statements exceed Euro 1,000 (or the converted\\namount in the currency of the country of the respective Coca-Cola HBC subsidiary).\\nOtherwise, invoices should be rendered quarterly or upon completion of the matter within the\\nquarterly period, whichever is earlier. Invoices should be received within 30 days of the earlier of\\nthe end of the billing period or completion of the matter.\\nThe timely closing of Coca-Cola HBC’s books at year-end requires the prompt submission of year-\\nend invoices. Firms which bill on a quarterly basis should submit one statement for the months of\\nOctober and November to be received no later than December 20. For accrual purposes, Outside\\nCounsel shall calculate anticipated fees and disbursements for December and shall provide\\nContact Counsel with an estimate of these charges by December 20, unless the December charges', metadata={'source': '/home/jonot480/Documents/Coke OCG.txt'}), Document(page_content='time by publishing any changes (respectively the new Guidelines) on the website (http://www.coca-\\ncolahellenic.com) and informing Outside Counsel accordingly. Outside Counsel is deemed to have\\naccepted the changes if there is no opposite reaction within 30 days since the publication of /\\ninformation on the changes (respectively the new Guidelines).\\n14', metadata={'source': '/home/jonot480/Documents/Coke OCG.txt'}), Document(page_content='Library books, publications, subscriptions or periodicals\\nHardware, software, database consultants or technical support\\nOffice supplies\\nInternal messenger services and ordinary postage\\nAccounting or bookkeeping charges\\nOther general overhead expense.\\nAll amounts representing non-reimbursable expenses included on the invoice shall not be\\nreimbursed.\\nVII. Timing, Content and Payment of Invoices\\na) Timing for Submission of Invoices\\nPrior to sending a paper version of the invoice, Outside Counsel shall submit in the Legal Tracker\\nLEDES invoice describing specific tasks, timekeepers, numbers of hours spent on task and base\\nrates, effective rates as well as reimbursable expenses. Once the LEDES invoice is approved by\\nCoca-Cola HBC, Outside Counsel shall provide Contact Counsel with a paper invoice reflecting\\nitems specified in LEDES document.\\nUnless agreed otherwise with Contact Counsel, Outside Counsel shall submit monthly invoices for', metadata={'source': '/home/jonot480/Documents/Coke OCG.txt'}), Document(page_content='i.\\nii.\\niii.\\niv.\\nv.\\nIdentification of the matter by appropriate subject heading;\\nIdentification of the billing period to which account relates;\\nAn itemised summary of the work that has been undertaken, including a brief description\\nof each service rendered, the date on which each service was rendered, the time spent\\non each service (with time increments of not more than one-tenth (0.10) of an hour) and\\nthe individual who performed the service;\\nAn itemisation and brief description of disbursements and expenses incurred during the\\nbilling period, with copies of supporting invoices for any disbursements;\\nReference to the purchase order number (“PO-Number”) and, where applicable, the\\nvendor code, which will be provided by Contact Counsel.\\nUpon receipt of Contact Counsel’s confirmation of the LEDES invoice, Outside Counsel shall send\\nall original invoices (together with schedules itemising the work on separate sheets) to the Contact', metadata={'source': '/home/jonot480/Documents/Coke OCG.txt'})]\n"
     ]
    }
   ],
   "source": [
    "\n",
    "disbs = weav.similarity_search(\"effective date\",k=4)\n",
    "print(disbs)"
   ]
  },
  {
   "cell_type": "code",
   "execution_count": null,
   "metadata": {},
   "outputs": [],
   "source": [
    "\n",
    "backup = weav.similarity_search(\"invoice copy\",k=10)\n",
    "print(backup)"
   ]
  },
  {
   "cell_type": "code",
   "execution_count": null,
   "metadata": {},
   "outputs": [],
   "source": [
    "rates = weav.similarity_search(\"hourly rates\",k=10)\n",
    "\n",
    "print(rates)"
   ]
  },
  {
   "cell_type": "code",
   "execution_count": null,
   "metadata": {},
   "outputs": [],
   "source": [
    "accruals = weav.similarity_search(\"accrual\",k=10)\n",
    "\n",
    "print(accruals)"
   ]
  },
  {
   "cell_type": "code",
   "execution_count": 76,
   "metadata": {},
   "outputs": [
    {
     "name": "stdout",
     "output_type": "stream",
     "text": [
      "The effective date is November 1, 2020.\n"
     ]
    }
   ],
   "source": [
    "from langchain_community.retrievers import (\n",
    "    WeaviateHybridSearchRetriever,\n",
    ")\n",
    "from langchain_core.prompts import ChatPromptTemplate\n",
    "from langchain_core.runnables import RunnablePassthrough\n",
    "from langchain_core.output_parsers import StrOutputParser\n",
    "from langchain_community.chat_models import ChatOllama\n",
    "\n",
    "llm = ChatOllama(model=\"jonphi\")\n",
    "\n",
    "retriever = WeaviateHybridSearchRetriever(\n",
    "    client=client,\n",
    "    index_name=index_name,\n",
    "    text_key=\"text\",\n",
    "    attributes=[],\n",
    "    create_schema_if_missing=True,\n",
    "    k=4\n",
    ")\n",
    "\n",
    "query=\"effective date\"\n",
    "\n",
    "result = retriever.invoke(query,score=True)\n",
    "        \n",
    "after_rag_template=\"\"\"\n",
    "<context>\n",
    "{context}\n",
    "</context>\n",
    "Question: {question}\n",
    "\"\"\"\n",
    "after_rag_prompt = ChatPromptTemplate.from_template(after_rag_template)\n",
    "after_rag_chain=(\n",
    "    {\"context\":retriever,\"question\":RunnablePassthrough()}\n",
    "    | after_rag_prompt\n",
    "    | llm\n",
    "    | StrOutputParser()    \n",
    ")\n",
    "print(after_rag_chain.invoke(\"what is the effective date?\"))\n"
   ]
  }
 ],
 "metadata": {
  "kernelspec": {
   "display_name": "myenv",
   "language": "python",
   "name": "python3"
  },
  "language_info": {
   "codemirror_mode": {
    "name": "ipython",
    "version": 3
   },
   "file_extension": ".py",
   "mimetype": "text/x-python",
   "name": "python",
   "nbconvert_exporter": "python",
   "pygments_lexer": "ipython3",
   "version": "3.10.12"
  }
 },
 "nbformat": 4,
 "nbformat_minor": 2
}
