{
 "cells": [
  {
   "cell_type": "code",
   "execution_count": null,
   "metadata": {},
   "outputs": [],
   "source": [
    "! pip --upgrade --quiet install arize-phoenix[evals]"
   ]
  },
  {
   "cell_type": "code",
   "execution_count": null,
   "metadata": {},
   "outputs": [],
   "source": [
    "#invoke tracing via phoenix\n",
    "from phoenix.trace.langchain import LangChainInstrumentor\n",
    "\n",
    "LangChainInstrumentor().instrument()"
   ]
  },
  {
   "cell_type": "code",
   "execution_count": 19,
   "metadata": {},
   "outputs": [],
   "source": [
    "import weaviate\n",
    "\n",
    "client = weaviate.Client(\"http://localhost:8081\")\n",
    "weaviate_client = weaviate.connect_to_local(\"localhost\",\"8081\")#v4\n",
    "index_name=\"Phoenix_test\""
   ]
  },
  {
   "cell_type": "code",
   "execution_count": 41,
   "metadata": {},
   "outputs": [
    {
     "data": {
      "text/plain": [
       "{}"
      ]
     },
     "execution_count": 41,
     "metadata": {},
     "output_type": "execute_result"
    }
   ],
   "source": [
    "weaviate_client.collections.delete_all()\n",
    "weaviate_client.collections.list_all()"
   ]
  },
  {
   "cell_type": "code",
   "execution_count": null,
   "metadata": {},
   "outputs": [],
   "source": [
    "from weaviate.classes.config import Configure\n",
    "from weaviate.classes.config import Property, DataType\n",
    "\n",
    "weaviate_client.collections.create(\n",
    "    index_name,\n",
    "    #see notes above re: the docker modules that need to be enabled for text2vec* to work correctly -e ENABLE_MODULES=text2vec-ollama\n",
    "    vectorizer_config=Configure.Vectorizer.text2vec_ollama( \n",
    "        model=\"nomic-embed-text\",    \n",
    "        api_endpoint=\"http://host.docker.internal:11434\",\n",
    "    ),\n",
    "    # generative_config=Configure.Generative.ollama(\n",
    "    #     api_endpoint = \"http://host.docker.internal:11434\",\n",
    "    #     model=\"jonphi\"\n",
    "    # ),\n",
    "\n",
    "    # properties=[\n",
    "    #     Property(name=\"page_content\", data_type=DataType.TEXT),\n",
    "    #     Property(name=\"source\", data_type=DataType.INT),\n",
    "    # ]\n",
    "\n",
    ")"
   ]
  },
  {
   "cell_type": "code",
   "execution_count": 31,
   "metadata": {},
   "outputs": [],
   "source": [
    "from langchain_community.document_loaders import TextLoader\n",
    "from langchain.text_splitter import RecursiveCharacterTextSplitter\n",
    "from langchain.text_splitter import CharacterTextSplitter\n",
    "import pprint\n",
    "\n",
    "loader = TextLoader(\"/home/jonot480/Documents/Coke OCG.txt\")\n",
    "documents = loader.load()\n",
    "text_splitter = RecursiveCharacterTextSplitter(chunk_size=1000,chunk_overlap=100)\n",
    "docs = text_splitter.split_documents(documents)\n",
    "#print(*docs, sep='\\n')"
   ]
  },
  {
   "cell_type": "code",
   "execution_count": 44,
   "metadata": {},
   "outputs": [],
   "source": [
    "from langchain_community.vectorstores.weaviate import Weaviate\n",
    "from langchain_community.embeddings.ollama import OllamaEmbeddings\n",
    "\n",
    "weav = Weaviate.from_documents(\n",
    "    docs, \n",
    "    embedding=OllamaEmbeddings(model='nomic-embed-text'),\n",
    "    client=client,    \n",
    "    index_name=index_name,\n",
    "    #prefer_grpc=True, \n",
    ") "
   ]
  },
  {
   "cell_type": "code",
   "execution_count": null,
   "metadata": {},
   "outputs": [],
   "source": [
    "collection = weaviate_client.collections.get(\"Phoenix_test\")\n",
    "response = collection.query.fetch_objects()\n",
    "\n",
    "for o in response.objects:\n",
    "    print(o.properties)  # Inspect returned objects\n",
    "    #print(o.properties[\"text\"])\n"
   ]
  },
  {
   "cell_type": "code",
   "execution_count": null,
   "metadata": {},
   "outputs": [],
   "source": [
    "\n",
    "disbs = weav.similarity_search(\"disbursements\",k=10)\n",
    "print(disbs)\n"
   ]
  },
  {
   "cell_type": "code",
   "execution_count": null,
   "metadata": {},
   "outputs": [],
   "source": [
    "\n",
    "backup = weav.similarity_search(\"invoice copy\",k=10)\n",
    "print(backup)"
   ]
  },
  {
   "cell_type": "code",
   "execution_count": null,
   "metadata": {},
   "outputs": [],
   "source": [
    "rates = weav.similarity_search(\"hourly rates\",k=10)\n",
    "\n",
    "print(rates)"
   ]
  },
  {
   "cell_type": "code",
   "execution_count": null,
   "metadata": {},
   "outputs": [],
   "source": [
    "accruals = weav.similarity_search(\"accrual\",k=10)\n",
    "\n",
    "print(accruals)"
   ]
  },
  {
   "cell_type": "code",
   "execution_count": null,
   "metadata": {},
   "outputs": [],
   "source": [
    "from langchain_community.retrievers import (\n",
    "    WeaviateHybridSearchRetriever,\n",
    ")\n",
    "from langchain_core.prompts import ChatPromptTemplate\n",
    "from langchain_core.runnables import RunnablePassthrough\n",
    "from langchain_core.output_parsers import StrOutputParser\n",
    "from langchain_community.chat_models import ChatOllama\n",
    "\n",
    "llm = ChatOllama(model=\"jonphi\")\n",
    "\n",
    "retriever = WeaviateHybridSearchRetriever(\n",
    "    client=client,\n",
    "    index_name=index_name,\n",
    "    text_key=\"text\",\n",
    "    attributes=[],\n",
    "    create_schema_if_missing=True    \n",
    ")\n",
    "\n",
    "query=\"disbursements\"\n",
    "\n",
    "result = retriever.invoke(query,score=True)\n",
    "        \n",
    "after_rag_template=\"\"\"\n",
    "<context>\n",
    "{context}\n",
    "</context>\n",
    "Question: {question}\n",
    "\"\"\"\n",
    "after_rag_prompt = ChatPromptTemplate.from_template(after_rag_template)\n",
    "after_rag_chain=(\n",
    "    {\"context\":retriever,\"question\":RunnablePassthrough()}\n",
    "    | after_rag_prompt\n",
    "    | llm\n",
    "    | StrOutputParser()    \n",
    ")\n",
    "print(after_rag_chain.invoke(\"what disbursements will the client not pay for?\"))\n"
   ]
  }
 ],
 "metadata": {
  "kernelspec": {
   "display_name": "myenv",
   "language": "python",
   "name": "python3"
  },
  "language_info": {
   "codemirror_mode": {
    "name": "ipython",
    "version": 3
   },
   "file_extension": ".py",
   "mimetype": "text/x-python",
   "name": "python",
   "nbconvert_exporter": "python",
   "pygments_lexer": "ipython3",
   "version": "3.10.12"
  }
 },
 "nbformat": 4,
 "nbformat_minor": 2
}
