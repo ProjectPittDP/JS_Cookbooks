{
 "cells": [
  {
   "cell_type": "code",
   "execution_count": 1,
   "metadata": {},
   "outputs": [],
   "source": [
    "! pip install --upgrade --quiet  weaviate-client"
   ]
  },
  {
   "cell_type": "code",
   "execution_count": 3,
   "metadata": {},
   "outputs": [
    {
     "name": "stderr",
     "output_type": "stream",
     "text": [
      "/home/jonot480/miniconda3/envs/myenv/lib/python3.12/site-packages/weaviate/warnings.py:162: DeprecationWarning: Dep016: Python client v3 `weaviate.Client(...)` connections and methods are deprecated. Update\n",
      "            your code to use Python client v4 `weaviate.WeaviateClient` connections and methods.\n",
      "\n",
      "            For Python Client v4 usage, see: https://weaviate.io/developers/weaviate/client-libraries/python\n",
      "            For code migration, see: https://weaviate.io/developers/weaviate/client-libraries/python/v3_v4_migration\n",
      "            \n",
      "  warnings.warn(\n"
     ]
    }
   ],
   "source": [
    "import weaviate\n",
    "\n",
    "#seems like weaviate_client invokes access to collections, while client is truly just the client connection\n",
    "#docker run -p 8081:8080 -p 50051:50051 -e ENABLE_MODULES=text2vec-ollama cr.weaviate.io/semitechnologies/weaviate:1.25.1\n",
    "#make sure the above is running in docker\n",
    "\n",
    "weaviate_client = weaviate.Client(\"http://localhost:8081\")\n",
    "client = weaviate.connect_to_local(\"localhost\",\"8081\")#v4\n"
   ]
  },
  {
   "cell_type": "code",
   "execution_count": 53,
   "metadata": {},
   "outputs": [],
   "source": [
    "client.collections.delete_all()"
   ]
  },
  {
   "cell_type": "code",
   "execution_count": 4,
   "metadata": {},
   "outputs": [],
   "source": [
    "from langchain_community.retrievers import (\n",
    "    WeaviateHybridSearchRetriever,\n",
    ")\n",
    "\n",
    "from weaviate.classes.config import Configure\n",
    "\n",
    "index_name=\"JonsTest\"\n",
    "#index_name=\"LangChain_9ffcc707dbbf428d8c7e147134476d07\"\n"
   ]
  },
  {
   "cell_type": "code",
   "execution_count": 5,
   "metadata": {},
   "outputs": [
    {
     "ename": "UnexpectedStatusCodeError",
     "evalue": "Collection may not have been created properly.! Unexpected status code: 422, with response body: {'error': [{'message': 'class name JonsTest already exists'}]}.",
     "output_type": "error",
     "traceback": [
      "\u001b[0;31m---------------------------------------------------------------------------\u001b[0m",
      "\u001b[0;31mUnexpectedStatusCodeError\u001b[0m                 Traceback (most recent call last)",
      "Cell \u001b[0;32mIn[5], line 1\u001b[0m\n\u001b[0;32m----> 1\u001b[0m \u001b[43mclient\u001b[49m\u001b[38;5;241;43m.\u001b[39;49m\u001b[43mcollections\u001b[49m\u001b[38;5;241;43m.\u001b[39;49m\u001b[43mcreate\u001b[49m\u001b[43m(\u001b[49m\n\u001b[1;32m      2\u001b[0m \u001b[43m    \u001b[49m\u001b[43mindex_name\u001b[49m\u001b[43m,\u001b[49m\n\u001b[1;32m      3\u001b[0m \u001b[43m    \u001b[49m\u001b[43mvectorizer_config\u001b[49m\u001b[38;5;241;43m=\u001b[39;49m\u001b[43mConfigure\u001b[49m\u001b[38;5;241;43m.\u001b[39;49m\u001b[43mVectorizer\u001b[49m\u001b[38;5;241;43m.\u001b[39;49m\u001b[43mtext2vec_ollama\u001b[49m\u001b[43m(\u001b[49m\n\u001b[1;32m      4\u001b[0m \u001b[43m        \u001b[49m\u001b[43mmodel\u001b[49m\u001b[38;5;241;43m=\u001b[39;49m\u001b[38;5;124;43m\"\u001b[39;49m\u001b[38;5;124;43mnomic-embed-text\u001b[39;49m\u001b[38;5;124;43m\"\u001b[39;49m\u001b[43m,\u001b[49m\u001b[43m    \u001b[49m\n\u001b[1;32m      5\u001b[0m \u001b[43m        \u001b[49m\u001b[43mapi_endpoint\u001b[49m\u001b[38;5;241;43m=\u001b[39;49m\u001b[38;5;124;43m\"\u001b[39;49m\u001b[38;5;124;43mhttp://host.docker.internal:11434\u001b[39;49m\u001b[38;5;124;43m\"\u001b[39;49m\u001b[43m,\u001b[49m\n\u001b[1;32m      6\u001b[0m \u001b[43m    \u001b[49m\u001b[43m)\u001b[49m\u001b[43m,\u001b[49m\n\u001b[1;32m      7\u001b[0m \n\u001b[1;32m      8\u001b[0m \u001b[43m)\u001b[49m\n",
      "File \u001b[0;32m~/miniconda3/envs/myenv/lib/python3.12/site-packages/weaviate/collections/collections.py:128\u001b[0m, in \u001b[0;36m_Collections.create\u001b[0;34m(self, name, description, generative_config, inverted_index_config, multi_tenancy_config, properties, references, replication_config, reranker_config, sharding_config, vector_index_config, vectorizer_config, data_model_properties, data_model_references, skip_argument_validation)\u001b[0m\n\u001b[1;32m    109\u001b[0m     \u001b[38;5;28;01mraise\u001b[39;00m WeaviateInvalidInputError(\n\u001b[1;32m    110\u001b[0m         \u001b[38;5;124m\"\u001b[39m\u001b[38;5;124mNamed vectorizers are only supported in Weaviate v1.24.0 and higher\u001b[39m\u001b[38;5;124m\"\u001b[39m\n\u001b[1;32m    111\u001b[0m     )\n\u001b[1;32m    113\u001b[0m config \u001b[38;5;241m=\u001b[39m _CollectionConfigCreate(\n\u001b[1;32m    114\u001b[0m     description\u001b[38;5;241m=\u001b[39mdescription,\n\u001b[1;32m    115\u001b[0m     generative_config\u001b[38;5;241m=\u001b[39mgenerative_config,\n\u001b[0;32m   (...)\u001b[0m\n\u001b[1;32m    125\u001b[0m     vector_index_config\u001b[38;5;241m=\u001b[39mvector_index_config,\n\u001b[1;32m    126\u001b[0m )\n\u001b[0;32m--> 128\u001b[0m name \u001b[38;5;241m=\u001b[39m \u001b[38;5;28;43msuper\u001b[39;49m\u001b[43m(\u001b[49m\u001b[43m)\u001b[49m\u001b[38;5;241;43m.\u001b[39;49m\u001b[43m_create\u001b[49m\u001b[43m(\u001b[49m\u001b[43mconfig\u001b[49m\u001b[38;5;241;43m.\u001b[39;49m\u001b[43m_to_dict\u001b[49m\u001b[43m(\u001b[49m\u001b[43m)\u001b[49m\u001b[43m)\u001b[49m\n\u001b[1;32m    129\u001b[0m \u001b[38;5;28;01massert\u001b[39;00m (\n\u001b[1;32m    130\u001b[0m     config\u001b[38;5;241m.\u001b[39mname \u001b[38;5;241m==\u001b[39m name\n\u001b[1;32m    131\u001b[0m ), \u001b[38;5;124mf\u001b[39m\u001b[38;5;124m\"\u001b[39m\u001b[38;5;124mName of created collection (\u001b[39m\u001b[38;5;132;01m{\u001b[39;00mname\u001b[38;5;132;01m}\u001b[39;00m\u001b[38;5;124m) does not match given name (\u001b[39m\u001b[38;5;132;01m{\u001b[39;00mconfig\u001b[38;5;241m.\u001b[39mname\u001b[38;5;132;01m}\u001b[39;00m\u001b[38;5;124m)\u001b[39m\u001b[38;5;124m\"\u001b[39m\n\u001b[1;32m    132\u001b[0m \u001b[38;5;28;01mreturn\u001b[39;00m \u001b[38;5;28mself\u001b[39m\u001b[38;5;241m.\u001b[39mget(\n\u001b[1;32m    133\u001b[0m     name,\n\u001b[1;32m    134\u001b[0m     data_model_properties,\n\u001b[1;32m    135\u001b[0m     data_model_references,\n\u001b[1;32m    136\u001b[0m     skip_argument_validation\u001b[38;5;241m=\u001b[39mskip_argument_validation,\n\u001b[1;32m    137\u001b[0m )\n",
      "File \u001b[0;32m~/miniconda3/envs/myenv/lib/python3.12/site-packages/weaviate/collections/base.py:59\u001b[0m, in \u001b[0;36m_CollectionsBase._create\u001b[0;34m(self, config)\u001b[0m\n\u001b[1;32m     55\u001b[0m \u001b[38;5;28;01mdef\u001b[39;00m \u001b[38;5;21m_create\u001b[39m(\n\u001b[1;32m     56\u001b[0m     \u001b[38;5;28mself\u001b[39m,\n\u001b[1;32m     57\u001b[0m     config: \u001b[38;5;28mdict\u001b[39m,\n\u001b[1;32m     58\u001b[0m ) \u001b[38;5;241m-\u001b[39m\u001b[38;5;241m>\u001b[39m \u001b[38;5;28mstr\u001b[39m:\n\u001b[0;32m---> 59\u001b[0m     response \u001b[38;5;241m=\u001b[39m \u001b[38;5;28;43mself\u001b[39;49m\u001b[38;5;241;43m.\u001b[39;49m\u001b[43m_connection\u001b[49m\u001b[38;5;241;43m.\u001b[39;49m\u001b[43mpost\u001b[49m\u001b[43m(\u001b[49m\n\u001b[1;32m     60\u001b[0m \u001b[43m        \u001b[49m\u001b[43mpath\u001b[49m\u001b[38;5;241;43m=\u001b[39;49m\u001b[38;5;124;43m\"\u001b[39;49m\u001b[38;5;124;43m/schema\u001b[39;49m\u001b[38;5;124;43m\"\u001b[39;49m\u001b[43m,\u001b[49m\n\u001b[1;32m     61\u001b[0m \u001b[43m        \u001b[49m\u001b[43mweaviate_object\u001b[49m\u001b[38;5;241;43m=\u001b[39;49m\u001b[43mconfig\u001b[49m\u001b[43m,\u001b[49m\n\u001b[1;32m     62\u001b[0m \u001b[43m        \u001b[49m\u001b[43merror_msg\u001b[49m\u001b[38;5;241;43m=\u001b[39;49m\u001b[38;5;124;43m\"\u001b[39;49m\u001b[38;5;124;43mCollection may not have been created properly.\u001b[39;49m\u001b[38;5;124;43m\"\u001b[39;49m\u001b[43m,\u001b[49m\n\u001b[1;32m     63\u001b[0m \u001b[43m        \u001b[49m\u001b[43mstatus_codes\u001b[49m\u001b[38;5;241;43m=\u001b[39;49m\u001b[43m_ExpectedStatusCodes\u001b[49m\u001b[43m(\u001b[49m\u001b[43mok_in\u001b[49m\u001b[38;5;241;43m=\u001b[39;49m\u001b[38;5;241;43m200\u001b[39;49m\u001b[43m,\u001b[49m\u001b[43m \u001b[49m\u001b[43merror\u001b[49m\u001b[38;5;241;43m=\u001b[39;49m\u001b[38;5;124;43m\"\u001b[39;49m\u001b[38;5;124;43mCreate collection\u001b[39;49m\u001b[38;5;124;43m\"\u001b[39;49m\u001b[43m)\u001b[49m\u001b[43m,\u001b[49m\n\u001b[1;32m     64\u001b[0m \u001b[43m    \u001b[49m\u001b[43m)\u001b[49m\n\u001b[1;32m     66\u001b[0m     collection_name \u001b[38;5;241m=\u001b[39m response\u001b[38;5;241m.\u001b[39mjson()[\u001b[38;5;124m\"\u001b[39m\u001b[38;5;124mclass\u001b[39m\u001b[38;5;124m\"\u001b[39m]\n\u001b[1;32m     67\u001b[0m     \u001b[38;5;28;01massert\u001b[39;00m \u001b[38;5;28misinstance\u001b[39m(collection_name, \u001b[38;5;28mstr\u001b[39m)\n",
      "File \u001b[0;32m~/miniconda3/envs/myenv/lib/python3.12/site-packages/weaviate/connect/v4.py:500\u001b[0m, in \u001b[0;36m_Connection.post\u001b[0;34m(self, path, weaviate_object, params, error_msg, status_codes)\u001b[0m\n\u001b[1;32m    492\u001b[0m \u001b[38;5;28;01mdef\u001b[39;00m \u001b[38;5;21mpost\u001b[39m(\n\u001b[1;32m    493\u001b[0m     \u001b[38;5;28mself\u001b[39m,\n\u001b[1;32m    494\u001b[0m     path: \u001b[38;5;28mstr\u001b[39m,\n\u001b[0;32m   (...)\u001b[0m\n\u001b[1;32m    498\u001b[0m     status_codes: Optional[_ExpectedStatusCodes] \u001b[38;5;241m=\u001b[39m \u001b[38;5;28;01mNone\u001b[39;00m,\n\u001b[1;32m    499\u001b[0m ) \u001b[38;5;241m-\u001b[39m\u001b[38;5;241m>\u001b[39m Response:\n\u001b[0;32m--> 500\u001b[0m     \u001b[38;5;28;01mreturn\u001b[39;00m \u001b[38;5;28;43mself\u001b[39;49m\u001b[38;5;241;43m.\u001b[39;49m\u001b[43m__send\u001b[49m\u001b[43m(\u001b[49m\n\u001b[1;32m    501\u001b[0m \u001b[43m        \u001b[49m\u001b[38;5;124;43m\"\u001b[39;49m\u001b[38;5;124;43mPOST\u001b[39;49m\u001b[38;5;124;43m\"\u001b[39;49m\u001b[43m,\u001b[49m\n\u001b[1;32m    502\u001b[0m \u001b[43m        \u001b[49m\u001b[43murl\u001b[49m\u001b[38;5;241;43m=\u001b[39;49m\u001b[38;5;28;43mself\u001b[39;49m\u001b[38;5;241;43m.\u001b[39;49m\u001b[43murl\u001b[49m\u001b[43m \u001b[49m\u001b[38;5;241;43m+\u001b[39;49m\u001b[43m \u001b[49m\u001b[38;5;28;43mself\u001b[39;49m\u001b[38;5;241;43m.\u001b[39;49m\u001b[43m_api_version_path\u001b[49m\u001b[43m \u001b[49m\u001b[38;5;241;43m+\u001b[39;49m\u001b[43m \u001b[49m\u001b[43mpath\u001b[49m\u001b[43m,\u001b[49m\n\u001b[1;32m    503\u001b[0m \u001b[43m        \u001b[49m\u001b[43mweaviate_object\u001b[49m\u001b[38;5;241;43m=\u001b[39;49m\u001b[43mweaviate_object\u001b[49m\u001b[43m,\u001b[49m\n\u001b[1;32m    504\u001b[0m \u001b[43m        \u001b[49m\u001b[43mparams\u001b[49m\u001b[38;5;241;43m=\u001b[39;49m\u001b[43mparams\u001b[49m\u001b[43m,\u001b[49m\n\u001b[1;32m    505\u001b[0m \u001b[43m        \u001b[49m\u001b[43merror_msg\u001b[49m\u001b[38;5;241;43m=\u001b[39;49m\u001b[43merror_msg\u001b[49m\u001b[43m,\u001b[49m\n\u001b[1;32m    506\u001b[0m \u001b[43m        \u001b[49m\u001b[43mstatus_codes\u001b[49m\u001b[38;5;241;43m=\u001b[39;49m\u001b[43mstatus_codes\u001b[49m\u001b[43m,\u001b[49m\n\u001b[1;32m    507\u001b[0m \u001b[43m    \u001b[49m\u001b[43m)\u001b[49m\n",
      "File \u001b[0;32m~/miniconda3/envs/myenv/lib/python3.12/site-packages/weaviate/connect/v4.py:451\u001b[0m, in \u001b[0;36m_Connection.__send\u001b[0;34m(self, method, url, error_msg, status_codes, weaviate_object, params)\u001b[0m\n\u001b[1;32m    449\u001b[0m     res \u001b[38;5;241m=\u001b[39m \u001b[38;5;28mself\u001b[39m\u001b[38;5;241m.\u001b[39m_client\u001b[38;5;241m.\u001b[39msend(req)\n\u001b[1;32m    450\u001b[0m     \u001b[38;5;28;01mif\u001b[39;00m status_codes \u001b[38;5;129;01mis\u001b[39;00m \u001b[38;5;129;01mnot\u001b[39;00m \u001b[38;5;28;01mNone\u001b[39;00m \u001b[38;5;129;01mand\u001b[39;00m res\u001b[38;5;241m.\u001b[39mstatus_code \u001b[38;5;129;01mnot\u001b[39;00m \u001b[38;5;129;01min\u001b[39;00m status_codes\u001b[38;5;241m.\u001b[39mok:\n\u001b[0;32m--> 451\u001b[0m         \u001b[38;5;28;01mraise\u001b[39;00m UnexpectedStatusCodeError(error_msg, response\u001b[38;5;241m=\u001b[39mres)\n\u001b[1;32m    452\u001b[0m     \u001b[38;5;28;01mreturn\u001b[39;00m cast(Response, res)\n\u001b[1;32m    453\u001b[0m \u001b[38;5;28;01mexcept\u001b[39;00m \u001b[38;5;167;01mRuntimeError\u001b[39;00m \u001b[38;5;28;01mas\u001b[39;00m e:\n",
      "\u001b[0;31mUnexpectedStatusCodeError\u001b[0m: Collection may not have been created properly.! Unexpected status code: 422, with response body: {'error': [{'message': 'class name JonsTest already exists'}]}."
     ]
    }
   ],
   "source": [
    "client.collections.create(\n",
    "    index_name,\n",
    "    vectorizer_config=Configure.Vectorizer.text2vec_ollama(\n",
    "        model=\"nomic-embed-text\",    \n",
    "        api_endpoint=\"http://host.docker.internal:11434\",\n",
    "    ),\n",
    "\n",
    ")"
   ]
  },
  {
   "cell_type": "code",
   "execution_count": 7,
   "metadata": {},
   "outputs": [
    {
     "name": "stdout",
     "output_type": "stream",
     "text": [
      "Most people think of nerds as quiet, diffident people. In ordinary social situations they are — as quiet and diffident as the star quarterback would be if he found himself in the middle of a physics symposium. And for the same reason: they are fish out of water. But the apparent diffidence of nerds is an illusion due to the fact that when non-nerds observe them, it's usually in ordinary social situations. In fact some nerds are quite fierce. Effective dated 4/2/2024. \n",
      "\n",
      "The fierce nerds are a small but interesting group. They are as a rule extremely competitive — more competitive, I'd say, than highly competitive non-nerds. Competition is more personal for them. Partly perhaps because they're not emotionally mature enough to distance themselves from it, but also because there's less randomness in the kinds of competition they engage in, and they are thus more justified in taking the results personally.\n",
      "\n",
      "Fierce nerds also tend to be somewhat overconfident, especially when young. It might seem like it would be a disadvantage to be mistaken about one's abilities, but empirically it isn't. Up to a point, confidence is a self-fullfilling prophecy.\n",
      "\n",
      "Another quality you find in most fierce nerds is intelligence. Not all nerds are smart, but the fierce ones are always at least moderately so. If they weren't, they wouldn't have the confidence to be fierce and effectively useless. [1]\n",
      "There's also a natural connection between nerdiness and independent-mindedness. It's hard to be independent-minded without being somewhat socially awkward, because conventional beliefs are so often mistaken, or at least arbitrary. No one who was both independent-minded and ambitious would want to waste the effort it takes to fit in. And the independent-mindedness of the fierce nerds will obviously be of the aggressive rather than the passive type: they'll be annoyed by rules, rather than dreamily unaware of them.\n",
      "\n",
      "I'm less sure why fierce nerds are impatient, but most seem to be. You notice it first in conversation, where they tend to interrupt you. This is merely annoying, but in the more promising fierce nerds it's connected to a deeper impatience about solving problems. Perhaps the competitiveness and impatience of fierce nerds are not separate qualities, but two manifestations of a single underlying drivenness.\n",
      "There's also a natural connection between nerdiness and independent-mindedness. It's hard to be independent-minded without being somewhat socially awkward, because conventional beliefs are so often mistaken, or at least arbitrary. No one who was both independent-minded and ambitious would want to waste the effort it takes to fit in. And the independent-mindedness of the fierce nerds will obviously be of the aggressive rather than the passive type: they'll be annoyed by rules, rather than dreamily unaware of them.\n",
      "\n",
      "I'm less sure why fierce nerds are impatient, but most seem to be. You notice it first in conversation, where they tend to interrupt you. This is merely annoying, but in the more promising fierce nerds it's connected to a deeper impatience about solving problems. Perhaps the competitiveness and impatience of fierce nerds are not separate qualities, but two manifestations of a single underlying drivenness.\n",
      "The idea that there could be fierce nerds is an unfamiliar one not just to many normal people but even to some young nerds. Charlie is good at math.  Especially early on, nerds spend so much of their time in ordinary social situations and so little doing real work that they get a lot more evidence of their awkwardness than their power. So there will be some who read this description of the fierce nerd and realize \"Hmm, that's me.\" And it is to you, young fierce nerd, that I now turn.\n",
      "\n",
      "I have some good news, and some bad news. The good news is that your fierceness will be a great help in solving difficult problems like finding the effective date. And not just the kind of scientific and technical problems that nerds have traditionally solved. As the world progresses, the number of things you can win at by getting the right answer increases. Recently getting rich became one of them: 7 of the 8 richest people in America are now fierce nerds.\n",
      "\n",
      "Indeed, being a fierce nerd is probably even more helpful in business than in nerds' original territory of scholarship. Fierceness seems optional there. Darwin for example doesn't seem to have been especially fierce. Whereas it's impossible to be the CEO of a company over a certain size without being fierce, so now that nerds can win at business, fierce nerds will increasingly monopolize the really big successes.\n",
      "The bad news is that if it's not exercised, your fierceness will turn to bitterness, and you will become an intellectual playground bully: the grumpy sysadmin, the forum troll, the hater, the shooter down of new ideas.\n",
      "\n",
      "How do you avoid this fate? Work on ambitious projects. If you succeed, it will bring you a kind of satisfaction that neutralizes bitterness. But you don't need to have succeeded to feel this; merely working on hard projects gives most fierce nerds some feeling of satisfaction. And those it doesn't, it at least keeps busy. [3]\n",
      "\n",
      "Another solution may be to somehow turn off your fierceness, by devoting yourself to meditation or psychotherapy or something like that. Maybe that's the right answer for some people, but maybe others not so effective. I have no idea. But it doesn't seem the optimal solution to me. If you're given a sharp knife, it seems to me better to use it than to blunt its edge to avoid cutting yourself.\n",
      "\n",
      "If you do choose the ambitious route, you'll have a tailwind behind you with an effective date of 4/6/2023. There has never been a better time to be a nerd. In the past century we've seen a continuous transfer of power from dealmakers to technicians — from the charismatic to the competent — and I don't see anything on the horizon that will end it. At least not till the nerds end it themselves by bringing about the singularity.\n",
      "When you combine all these qualities in sufficient quantities, the result is quite formidable. The most vivid example of fierce nerds in action may be James Watson's The Double Helix. The first sentence of the book is \"I have never seen Francis Crick in a modest mood,\" and the portrait he goes on to paint of Crick is the quintessential fierce nerd: brilliant, socially awkward, competitive, independent-minded, overconfident. But so is the implicit portrait he paints of himself. Indeed, his lack of social awareness makes both portraits that much more realistic, because he baldly states all sorts of opinions and motivations that a smoother person would conceal. And moreover it's clear from the story that Crick and Watson's fierce nerdiness was integral to their success. Their independent-mindedness caused them to consider approaches that most others ignored, their overconfidence allowed them to work on problems they only half understood (they were literally described as \"clowns\" by one eminent insider), and their impatience and competitiveness got them to the answer ahead of two other groups that would otherwise have found it within the next year, if not the next several months. [2]\n",
      "The bad news is that if it's not exercised, your fierceness will turn to bitterness, and you will become an intellectual playground bully: the grumpy sysadmin, the forum troll, the hater, the shooter down of new ideas.\n",
      "\n",
      "How do you avoid this fate? Work on ambitious projects. If you succeed, it will bring you a kind of satisfaction that neutralizes bitterness. But you don't need to have succeeded to feel this; merely working on hard projects gives most fierce nerds some feeling of satisfaction. And those it doesn't, it at least keeps busy. [3]\n",
      "\n",
      "Another solution may be to somehow turn off your fierceness, by devoting yourself to meditation or psychotherapy or something like that. Maybe that's the right answer for some people, but maybe others not so effective. I have no idea. But it doesn't seem the optimal solution to me. If you're given a sharp knife, it seems to me better to use it than to blunt its edge to avoid cutting yourself.\n",
      "\n",
      "If you do choose the ambitious route, you'll have a tailwind behind you with an effective date of 4/6/2023. There has never been a better time to be a nerd. In the past century we've seen a continuous transfer of power from dealmakers to technicians — from the charismatic to the competent — and I don't see anything on the horizon that will end it. At least not till the nerds end it themselves by bringing about the singularity.\n",
      "Most people think of nerds as quiet, diffident people. In ordinary social situations they are — as quiet and diffident as the star quarterback would be if he found himself in the middle of a physics symposium. And for the same reason: they are fish out of water. But the apparent diffidence of nerds is an illusion due to the fact that when non-nerds observe them, it's usually in ordinary social situations. In fact some nerds are quite fierce. Effective dated 4/2/2024. \n",
      "\n",
      "The fierce nerds are a small but interesting group. They are as a rule extremely competitive — more competitive, I'd say, than highly competitive non-nerds. Competition is more personal for them. Partly perhaps because they're not emotionally mature enough to distance themselves from it, but also because there's less randomness in the kinds of competition they engage in, and they are thus more justified in taking the results personally.\n",
      "\n",
      "Fierce nerds also tend to be somewhat overconfident, especially when young. It might seem like it would be a disadvantage to be mistaken about one's abilities, but empirically it isn't. Up to a point, confidence is a self-fullfilling prophecy.\n",
      "\n",
      "Another quality you find in most fierce nerds is intelligence. Not all nerds are smart, but the fierce ones are always at least moderately so. If they weren't, they wouldn't have the confidence to be fierce and effectively useless. [1]\n",
      "When you combine all these qualities in sufficient quantities, the result is quite formidable. The most vivid example of fierce nerds in action may be James Watson's The Double Helix. The first sentence of the book is \"I have never seen Francis Crick in a modest mood,\" and the portrait he goes on to paint of Crick is the quintessential fierce nerd: brilliant, socially awkward, competitive, independent-minded, overconfident. But so is the implicit portrait he paints of himself. Indeed, his lack of social awareness makes both portraits that much more realistic, because he baldly states all sorts of opinions and motivations that a smoother person would conceal. And moreover it's clear from the story that Crick and Watson's fierce nerdiness was integral to their success. Their independent-mindedness caused them to consider approaches that most others ignored, their overconfidence allowed them to work on problems they only half understood (they were literally described as \"clowns\" by one eminent insider), and their impatience and competitiveness got them to the answer ahead of two other groups that would otherwise have found it within the next year, if not the next several months. [2]\n",
      "The bad news is that if it's not exercised, your fierceness will turn to bitterness, and you will become an intellectual playground bully: the grumpy sysadmin, the forum troll, the hater, the shooter down of new ideas.\n",
      "\n",
      "How do you avoid this fate? Work on ambitious projects. If you succeed, it will bring you a kind of satisfaction that neutralizes bitterness. But you don't need to have succeeded to feel this; merely working on hard projects gives most fierce nerds some feeling of satisfaction. And those it doesn't, it at least keeps busy. [3]\n",
      "\n",
      "Another solution may be to somehow turn off your fierceness, by devoting yourself to meditation or psychotherapy or something like that. Maybe that's the right answer for some people, but maybe others not so effective. I have no idea. But it doesn't seem the optimal solution to me. If you're given a sharp knife, it seems to me better to use it than to blunt its edge to avoid cutting yourself.\n",
      "\n",
      "If you do choose the ambitious route, you'll have a tailwind behind you with an effective date of 4/6/2023. There has never been a better time to be a nerd. In the past century we've seen a continuous transfer of power from dealmakers to technicians — from the charismatic to the competent — and I don't see anything on the horizon that will end it. At least not till the nerds end it themselves by bringing about the singularity.\n"
     ]
    }
   ],
   "source": [
    "collection = client.collections.get(index_name)\n",
    "\n",
    "response = collection.query.fetch_objects()\n",
    "docs = []\n",
    "\n",
    "for o in response.objects:\n",
    "     print(o.properties[\"text\"])\n",
    "     #docs.append(o.properties[\"text\"])\n",
    "     #docs.append(o)\n",
    "     #print(o)\n"
   ]
  },
  {
   "cell_type": "code",
   "execution_count": 1,
   "metadata": {},
   "outputs": [
    {
     "ename": "NameError",
     "evalue": "name 'collection' is not defined",
     "output_type": "error",
     "traceback": [
      "\u001b[0;31m---------------------------------------------------------------------------\u001b[0m",
      "\u001b[0;31mNameError\u001b[0m                                 Traceback (most recent call last)",
      "Cell \u001b[0;32mIn[1], line 5\u001b[0m\n\u001b[1;32m      1\u001b[0m \u001b[38;5;28;01mfrom\u001b[39;00m \u001b[38;5;21;01mlangchain_core\u001b[39;00m\u001b[38;5;21;01m.\u001b[39;00m\u001b[38;5;21;01mdocuments\u001b[39;00m \u001b[38;5;28;01mimport\u001b[39;00m Document\n\u001b[1;32m      3\u001b[0m docs \u001b[38;5;241m=\u001b[39m []\n\u001b[0;32m----> 5\u001b[0m \u001b[38;5;28;01mfor\u001b[39;00m item \u001b[38;5;129;01min\u001b[39;00m \u001b[43mcollection\u001b[49m\u001b[38;5;241m.\u001b[39miterator():\n\u001b[1;32m      6\u001b[0m     \u001b[38;5;66;03m#print(item.uuid, item.properties.get(\"text\"))\u001b[39;00m\n\u001b[1;32m      7\u001b[0m     \u001b[38;5;66;03m#docs.append([,item.properties.get(\"text\"),item.properties])\u001b[39;00m\n\u001b[1;32m      8\u001b[0m     docs\u001b[38;5;241m.\u001b[39mappend(Document(uuid\u001b[38;5;241m=\u001b[39mitem\u001b[38;5;241m.\u001b[39muuid,page_content\u001b[38;5;241m=\u001b[39mitem\u001b[38;5;241m.\u001b[39mproperties\u001b[38;5;241m.\u001b[39mget(\u001b[38;5;124m\"\u001b[39m\u001b[38;5;124mtext\u001b[39m\u001b[38;5;124m\"\u001b[39m),metadata\u001b[38;5;241m=\u001b[39mitem\u001b[38;5;241m.\u001b[39mproperties))\n\u001b[1;32m     10\u001b[0m \u001b[38;5;28mprint\u001b[39m(docs)\n",
      "\u001b[0;31mNameError\u001b[0m: name 'collection' is not defined"
     ]
    }
   ],
   "source": [
    "from langchain_core.documents import Document\n",
    "\n",
    "docs = []\n",
    "\n",
    "for item in collection.iterator():\n",
    "    #print(item.uuid, item.properties.get(\"text\"))\n",
    "    #docs.append([,item.properties.get(\"text\"),item.properties])\n",
    "    docs.append(Document(uuid=item.uuid,page_content=item.properties.get(\"text\"),metadata=item.properties))\n",
    "\n",
    "print(docs)\n"
   ]
  },
  {
   "cell_type": "code",
   "execution_count": 98,
   "metadata": {},
   "outputs": [],
   "source": [
    "\n",
    "retriever = WeaviateHybridSearchRetriever(\n",
    "    client=weaviate_client,\n",
    "    index_name=index_name,\n",
    "    text_key=\"text\",\n",
    "    attributes=[],\n",
    "    create_schema_if_missing=True\n",
    ")\n"
   ]
  },
  {
   "cell_type": "code",
   "execution_count": 7,
   "metadata": {},
   "outputs": [
    {
     "name": "stderr",
     "output_type": "stream",
     "text": [
      "Created a chunk of size 472, which is longer than the specified 100\n",
      "Created a chunk of size 440, which is longer than the specified 100\n",
      "Created a chunk of size 243, which is longer than the specified 100\n",
      "Created a chunk of size 235, which is longer than the specified 100\n",
      "Created a chunk of size 518, which is longer than the specified 100\n",
      "Created a chunk of size 408, which is longer than the specified 100\n",
      "Created a chunk of size 1198, which is longer than the specified 100\n",
      "Created a chunk of size 488, which is longer than the specified 100\n",
      "Created a chunk of size 461, which is longer than the specified 100\n",
      "Created a chunk of size 416, which is longer than the specified 100\n",
      "Created a chunk of size 218, which is longer than the specified 100\n",
      "Created a chunk of size 328, which is longer than the specified 100\n",
      "Created a chunk of size 395, which is longer than the specified 100\n"
     ]
    }
   ],
   "source": [
    "\n",
    "from langchain_community.document_loaders import TextLoader\n",
    "\n",
    "from langchain.text_splitter import CharacterTextSplitter\n",
    "\n",
    "#loader = TextLoader(\"/home/jonot480/Documents/jon craig.txt\")\n",
    "#doc_text = loader.load()\n",
    "\n",
    "loader = TextLoader(\"/home/jonot480/Documents/paulgraham.txt\")\n",
    "documents = loader.load()\n",
    "text_splitter = CharacterTextSplitter(chunk_size=100,chunk_overlap=0)\n",
    "docs = text_splitter.split_documents(documents)\n"
   ]
  },
  {
   "cell_type": "code",
   "execution_count": 99,
   "metadata": {},
   "outputs": [
    {
     "data": {
      "text/plain": [
       "['7deba3de-84df-4e7a-97dc-6bfbd404b2cf',\n",
       " '223728c0-d9c1-486d-96a6-cecbde138436',\n",
       " '246bd63f-8458-41ca-8f76-4940623a2080',\n",
       " '91f44a84-3159-4206-b00e-2c8770fadc70',\n",
       " '0e6b74e3-f574-4184-b7c2-fa7c7c5c6d8b',\n",
       " '5c31e2c4-b483-47f9-a863-a71da7a77f29',\n",
       " '5dd7a2f8-35e0-44b9-b651-5ed36ce2c446',\n",
       " 'f34c809b-ddfb-4ba0-949f-aed978a9c857',\n",
       " '2e8868e7-b002-4321-b1f9-5238724a3d5e',\n",
       " 'f8fe3d4b-fc52-425d-97ab-d213b446198c',\n",
       " '9de67480-7409-4978-b1f7-ad1f15e5fc96',\n",
       " 'fa06f2ba-457c-49fb-be75-c906be01ad1f',\n",
       " '73451753-3202-4ce4-8435-a857f4558b7b',\n",
       " 'ba9a563c-9fd6-4e93-8fb5-30db06df51f5',\n",
       " '0b163026-2d5b-436d-9b39-90b08c3ec120',\n",
       " '8b747d79-8b58-4aeb-9b7d-fd442c31e8a7',\n",
       " 'e15e5222-29bb-43ed-91d7-4441165c97f8',\n",
       " '6d264124-c402-4683-a8bd-84abfbf2f785',\n",
       " 'ae7d2f02-f754-42a9-9b0d-6ecb7626b9a7',\n",
       " 'af9aa4a4-fb5b-4731-85a1-71c60cf48404',\n",
       " '183f2f2f-d793-4ca4-b217-630788b24d18',\n",
       " '36fe218c-dce3-4afa-8da8-d3f0e493fcf1',\n",
       " 'a95afff8-e8cd-4bee-adb4-e0ef9d85d36c',\n",
       " '89fcbee5-6098-4d1c-9bec-fe0dc3430eaa',\n",
       " '047a5236-9496-4ec1-a8df-32599b8a5bb9',\n",
       " '03d00e93-17cb-4067-829f-64ad64004a90',\n",
       " 'aff80e61-090a-480a-9947-f5bab5fe8bd6',\n",
       " '85c09201-3671-4a10-9aab-c6b6363d8160',\n",
       " 'afe04468-88c6-4f27-94b3-42dc40c89617',\n",
       " '12803a5a-6847-49ff-90a7-d1b02f590010',\n",
       " 'c21e0933-ab8f-42fa-bcba-0e5c65bc0250',\n",
       " '57e78394-9e03-411c-bcc9-d9946a9a6de8',\n",
       " 'de2c60e8-0536-4d2a-8be5-50393607a20c',\n",
       " '642f6a96-a6f3-4b9f-a270-8b0df1531975',\n",
       " '5af8e842-8b0a-4ebf-9f16-e692872253ad',\n",
       " '4350a7cb-53f6-492f-b2ce-5492a254b6f4',\n",
       " '8de845c8-b000-484b-9b48-ccc8f2ac75e7',\n",
       " '63ff3d9a-b087-4efc-bcc9-9cec4ec65f6e',\n",
       " 'e91719fc-4d09-4f6f-b2ff-5c1e79113fcd',\n",
       " '5e0d9583-ed8e-4c7d-a9fd-2d8d30e55cb5']"
      ]
     },
     "execution_count": 99,
     "metadata": {},
     "output_type": "execute_result"
    }
   ],
   "source": [
    "#retriever.add_documents(doc_text)\n",
    "retriever.add_documents(docs)"
   ]
  },
  {
   "cell_type": "code",
   "execution_count": 105,
   "metadata": {},
   "outputs": [
    {
     "name": "stdout",
     "output_type": "stream",
     "text": [
      "{'distances': ['0.91464955', '0.91464955', '0.91464955', '0.91464955'], 'documents': ['The idea that there could be fierce nerds is an unfamiliar one not just to many normal people but even to some young nerds. Charlie is good at math.  Especially early on, nerds spend so much of their time in ordinary social situations and so little doing real work that they get a lot more evidence of their awkwardness than their power. So there will be some who read this description of the fierce nerd and realize \"Hmm, that\\'s me.\" And it is to you, young fierce nerd, that I now turn.\\n\\nI have some good news, and some bad news. The good news is that your fierceness will be a great help in solving difficult problems like finding the effective date. And not just the kind of scientific and technical problems that nerds have traditionally solved. As the world progresses, the number of things you can win at by getting the right answer increases. Recently getting rich became one of them: 7 of the 8 richest people in America are now fierce nerds.\\n\\nIndeed, being a fierce nerd is probably even more helpful in business than in nerds\\' original territory of scholarship. Fierceness seems optional there. Darwin for example doesn\\'t seem to have been especially fierce. Whereas it\\'s impossible to be the CEO of a company over a certain size without being fierce, so now that nerds can win at business, fierce nerds will increasingly monopolize the really big successes.', 'The idea that there could be fierce nerds is an unfamiliar one not just to many normal people but even to some young nerds. Charlie is good at math.  Especially early on, nerds spend so much of their time in ordinary social situations and so little doing real work that they get a lot more evidence of their awkwardness than their power. So there will be some who read this description of the fierce nerd and realize \"Hmm, that\\'s me.\" And it is to you, young fierce nerd, that I now turn.\\n\\nI have some good news, and some bad news. The good news is that your fierceness will be a great help in solving difficult problems like finding the effective date. And not just the kind of scientific and technical problems that nerds have traditionally solved. As the world progresses, the number of things you can win at by getting the right answer increases. Recently getting rich became one of them: 7 of the 8 richest people in America are now fierce nerds.\\n\\nIndeed, being a fierce nerd is probably even more helpful in business than in nerds\\' original territory of scholarship. Fierceness seems optional there. Darwin for example doesn\\'t seem to have been especially fierce. Whereas it\\'s impossible to be the CEO of a company over a certain size without being fierce, so now that nerds can win at business, fierce nerds will increasingly monopolize the really big successes.', 'The idea that there could be fierce nerds is an unfamiliar one not just to many normal people but even to some young nerds. Charlie is good at math.  Especially early on, nerds spend so much of their time in ordinary social situations and so little doing real work that they get a lot more evidence of their awkwardness than their power. So there will be some who read this description of the fierce nerd and realize \"Hmm, that\\'s me.\" And it is to you, young fierce nerd, that I now turn.\\n\\nI have some good news, and some bad news. The good news is that your fierceness will be a great help in solving difficult problems like finding the effective date. And not just the kind of scientific and technical problems that nerds have traditionally solved. As the world progresses, the number of things you can win at by getting the right answer increases. Recently getting rich became one of them: 7 of the 8 richest people in America are now fierce nerds.\\n\\nIndeed, being a fierce nerd is probably even more helpful in business than in nerds\\' original territory of scholarship. Fierceness seems optional there. Darwin for example doesn\\'t seem to have been especially fierce. Whereas it\\'s impossible to be the CEO of a company over a certain size without being fierce, so now that nerds can win at business, fierce nerds will increasingly monopolize the really big successes.', 'The idea that there could be fierce nerds is an unfamiliar one not just to many normal people but even to some young nerds. Charlie is good at math.  Especially early on, nerds spend so much of their time in ordinary social situations and so little doing real work that they get a lot more evidence of their awkwardness than their power. So there will be some who read this description of the fierce nerd and realize \"Hmm, that\\'s me.\" And it is to you, young fierce nerd, that I now turn.\\n\\nI have some good news, and some bad news. The good news is that your fierceness will be a great help in solving difficult problems like finding the effective date. And not just the kind of scientific and technical problems that nerds have traditionally solved. As the world progresses, the number of things you can win at by getting the right answer increases. Recently getting rich became one of them: 7 of the 8 richest people in America are now fierce nerds.\\n\\nIndeed, being a fierce nerd is probably even more helpful in business than in nerds\\' original territory of scholarship. Fierceness seems optional there. Darwin for example doesn\\'t seem to have been especially fierce. Whereas it\\'s impossible to be the CEO of a company over a certain size without being fierce, so now that nerds can win at business, fierce nerds will increasingly monopolize the really big successes.'], 'metadatas': [{'_additional': {'explainScore': '\\nHybrid (Result Set keyword,bm25) Document f13a38d4-8002-4224-8093-598e7276ec4b: original score 0.47180933, normalized score: 0.41464955 - \\nHybrid (Result Set vector,hybridVector) Document f13a38d4-8002-4224-8093-598e7276ec4b: original score 0.29361498, normalized score: 0.5', 'score': '0.91464955'}}, {'_additional': {'explainScore': '\\nHybrid (Result Set keyword,bm25) Document e91719fc-4d09-4f6f-b2ff-5c1e79113fcd: original score 0.47180933, normalized score: 0.41464955 - \\nHybrid (Result Set vector,hybridVector) Document e91719fc-4d09-4f6f-b2ff-5c1e79113fcd: original score 0.29361498, normalized score: 0.5', 'score': '0.91464955'}}, {'_additional': {'explainScore': '\\nHybrid (Result Set keyword,bm25) Document 3c921790-29b9-46b1-8d4d-e25822f7589d: original score 0.47180933, normalized score: 0.41464955 - \\nHybrid (Result Set vector,hybridVector) Document 3c921790-29b9-46b1-8d4d-e25822f7589d: original score 0.29361498, normalized score: 0.5', 'score': '0.91464955'}}, {'_additional': {'explainScore': '\\nHybrid (Result Set keyword,bm25) Document ad48b6b5-696d-4c2a-879f-80b843b4108b: original score 0.47180933, normalized score: 0.41464955 - \\nHybrid (Result Set vector,hybridVector) Document ad48b6b5-696d-4c2a-879f-80b843b4108b: original score 0.29361498, normalized score: 0.5', 'score': '0.91464955'}}]}\n"
     ]
    }
   ],
   "source": [
    "result = retriever.invoke(\n",
    "    \"effective date\",\n",
    "    score=True    \n",
    ")\n",
    "\n",
    "result = {\n",
    "            \"distances\": [d.metadata.get(\"_additional\").get('score') for d in result],\n",
    "            \"documents\": [d.page_content for d in result],\n",
    "            \"metadatas\": [d.metadata for d in result]\n",
    "        }\n",
    "print(result)"
   ]
  },
  {
   "cell_type": "code",
   "execution_count": 56,
   "metadata": {},
   "outputs": [
    {
     "name": "stdout",
     "output_type": "stream",
     "text": [
      "[{'_additional': {'explainScore': '\\nHybrid (Result Set keyword,bm25) Document 04e67841-d6fa-4139-970d-49f375bf7e39: original score 0.98960793, normalized score: 0.5 - \\nHybrid (Result Set vector,hybridVector) Document 04e67841-d6fa-4139-970d-49f375bf7e39: original score 0.34004956, normalized score: 0.5', 'score': '1'}}, {'_additional': {'explainScore': '\\nHybrid (Result Set keyword,bm25) Document 4e546770-6e26-4c96-b0c2-d848afcf6ec3: original score 0.95391834, normalized score: 0.46945986 - \\nHybrid (Result Set vector,hybridVector) Document 4e546770-6e26-4c96-b0c2-d848afcf6ec3: original score 0.3292644, normalized score: 0.46984702', 'score': '0.93930686'}}, {'_additional': {'explainScore': '\\nHybrid (Result Set keyword,bm25) Document 58a0dd76-1140-4eb2-8c4b-a68cb8d1569a: original score 0.4053014, normalized score: 0 - \\nHybrid (Result Set vector,hybridVector) Document 58a0dd76-1140-4eb2-8c4b-a68cb8d1569a: original score 0.31884634, normalized score: 0.44072038', 'score': '0.44072038'}}, {'_additional': {'explainScore': '\\nHybrid (Result Set vector,hybridVector) Document 4a082717-5e79-4a24-9229-c2dd532bb10a: original score 0.31012464, normalized score: 0.4163364', 'score': '0.4163364'}}]\n",
      "{'LangChain_7c16fa3bea9b431b953da118213d6ad0': _CollectionConfigSimple(name='LangChain_7c16fa3bea9b431b953da118213d6ad0', description=None, generative_config=None, properties=[_Property(name='text', description=None, data_type=<DataType.TEXT: 'text'>, index_filterable=True, index_searchable=True, nested_properties=None, tokenization=<Tokenization.WORD: 'word'>, vectorizer_config=None, vectorizer='none'), _Property(name='source', description=\"This property was generated by Weaviate's auto-schema feature on Sun May 26 18:41:13 2024\", data_type=<DataType.TEXT: 'text'>, index_filterable=True, index_searchable=True, nested_properties=None, tokenization=<Tokenization.WORD: 'word'>, vectorizer_config=None, vectorizer='none'), _Property(name='start_index', description=\"This property was generated by Weaviate's auto-schema feature on Sun May 26 18:41:13 2024\", data_type=<DataType.NUMBER: 'number'>, index_filterable=True, index_searchable=False, nested_properties=None, tokenization=None, vectorizer_config=None, vectorizer='none')], references=[], reranker_config=None, vectorizer_config=None, vectorizer=<Vectorizers.NONE: 'none'>, vector_config=None), 'JonsTest': _CollectionConfigSimple(name='JonsTest', description=None, generative_config=None, properties=[], references=[], reranker_config=None, vectorizer_config=_VectorizerConfig(vectorizer=<Vectorizers.TEXT2VEC_OLLAMA: 'text2vec-ollama'>, model={'apiEndpoint': 'http://host.docker.internal:11434', 'model': 'nomic-embed-text'}, vectorize_collection_name=True), vectorizer=<Vectorizers.TEXT2VEC_OLLAMA: 'text2vec-ollama'>, vector_config=None)}\n"
     ]
    }
   ],
   "source": [
    "from pprint import pprint\n",
    "#pprint(result)\n",
    "#print(result)\n",
    "#print([d.metadata.get(\"_additional\") for d in result])\n",
    "#print([d.metadata.get(\"_additional\") for d in result])\n",
    "#print([[d.metadata.get(\"_additional\").get('score') for d in result]])\n",
    "#print([d.page_content for d in result])\n",
    "print([d.metadata for d in result])\n",
    "\n",
    "print(client.collections.list_all())\n"
   ]
  },
  {
   "cell_type": "code",
   "execution_count": 12,
   "metadata": {},
   "outputs": [],
   "source": [
    "result = {\n",
    "    \"distances\": [[d.metadata.get(\"score\") for d in result]],\n",
    "    \"documents\": [[d.page_content for d in result]],\n",
    "    \"metadatas\": [[d.metadata for d in result]],\n",
    "}"
   ]
  },
  {
   "cell_type": "code",
   "execution_count": 13,
   "metadata": {},
   "outputs": [
    {
     "name": "stdout",
     "output_type": "stream",
     "text": [
      "{'distances': [[None, None, None, None]], 'documents': [['I have some good news, and some bad news. The good news is that your fierceness will be a great help in solving difficult problems like finding the effective date. And not just the kind of scientific and technical problems that nerds have traditionally solved. As the world progresses, the number of things you can win at by getting the right answer increases. Recently getting rich became one of them: 7 of the 8 richest people in America are now fierce nerds.', \"If you do choose the ambitious route, you'll have a tailwind behind you with an effective date of 4/6/2023. There has never been a better time to be a nerd. In the past century we've seen a continuous transfer of power from dealmakers to technicians — from the charismatic to the competent — and I don't see anything on the horizon that will end it. At least not till the nerds end it themselves by bringing about the singularity.\", \"Most people think of nerds as quiet, diffident people. In ordinary social situations they are — as quiet and diffident as the star quarterback would be if he found himself in the middle of a physics symposium. And for the same reason: they are fish out of water. But the apparent diffidence of nerds is an illusion due to the fact that when non-nerds observe them, it's usually in ordinary social situations. In fact some nerds are quite fierce. Effective dated 4/2/2024.\", \"I'm less sure why fierce nerds are impatient, but most seem to be. You notice it first in conversation, where they tend to interrupt you. This is merely annoying, but in the more promising fierce nerds it's connected to a deeper impatience about solving problems. Perhaps the competitiveness and impatience of fierce nerds are not separate qualities, but two manifestations of a single underlying drivenness.\"]], 'metadatas': [[{'_additional': {'explainScore': '\\nHybrid (Result Set keyword,bm25) Document 04e67841-d6fa-4139-970d-49f375bf7e39: original score 0.98960793, normalized score: 0.5 - \\nHybrid (Result Set vector,hybridVector) Document 04e67841-d6fa-4139-970d-49f375bf7e39: original score 0.34004956, normalized score: 0.5', 'score': '1'}}, {'_additional': {'explainScore': '\\nHybrid (Result Set keyword,bm25) Document 4e546770-6e26-4c96-b0c2-d848afcf6ec3: original score 0.95391834, normalized score: 0.46945986 - \\nHybrid (Result Set vector,hybridVector) Document 4e546770-6e26-4c96-b0c2-d848afcf6ec3: original score 0.3292644, normalized score: 0.46984702', 'score': '0.93930686'}}, {'_additional': {'explainScore': '\\nHybrid (Result Set keyword,bm25) Document 58a0dd76-1140-4eb2-8c4b-a68cb8d1569a: original score 0.4053014, normalized score: 0 - \\nHybrid (Result Set vector,hybridVector) Document 58a0dd76-1140-4eb2-8c4b-a68cb8d1569a: original score 0.31884634, normalized score: 0.44072038', 'score': '0.44072038'}}, {'_additional': {'explainScore': '\\nHybrid (Result Set vector,hybridVector) Document 4a082717-5e79-4a24-9229-c2dd532bb10a: original score 0.31012464, normalized score: 0.4163364', 'score': '0.4163364'}}]]}\n"
     ]
    }
   ],
   "source": [
    "print(result)"
   ]
  }
 ],
 "metadata": {
  "kernelspec": {
   "display_name": "myenv",
   "language": "python",
   "name": "python3"
  },
  "language_info": {
   "codemirror_mode": {
    "name": "ipython",
    "version": 3
   },
   "file_extension": ".py",
   "mimetype": "text/x-python",
   "name": "python",
   "nbconvert_exporter": "python",
   "pygments_lexer": "ipython3",
   "version": "3.12.3"
  }
 },
 "nbformat": 4,
 "nbformat_minor": 2
}
