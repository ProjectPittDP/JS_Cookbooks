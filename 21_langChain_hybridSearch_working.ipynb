{
 "cells": [
  {
   "cell_type": "code",
   "execution_count": 1,
   "metadata": {},
   "outputs": [],
   "source": [
    "! pip install --upgrade --quiet  weaviate-client"
   ]
  },
  {
   "cell_type": "code",
   "execution_count": null,
   "metadata": {},
   "outputs": [],
   "source": [
    "import weaviate\n",
    "\n",
    "#seems like weaviate_client invokes access to collections, while client is truly just the client connection\n",
    "#docker run -p 8081:8080 -p 50051:50051 -e ENABLE_MODULES=text2vec-ollama cr.weaviate.io/semitechnologies/weaviate:1.25.1\n",
    "#make sure the above is running in docker\n",
    "\n",
    "weaviate_client = weaviate.Client(\"http://localhost:8081\")\n",
    "client = weaviate.connect_to_local(\"localhost\",\"8081\")#v4\n"
   ]
  },
  {
   "cell_type": "code",
   "execution_count": 53,
   "metadata": {},
   "outputs": [],
   "source": [
    "#ONLY RUN THIS IF YOU WANT TO START FROM SCRATCH!!!!\n",
    "#client.collections.delete_all()\n",
    "#print(client.collections.list_all())"
   ]
  },
  {
   "cell_type": "code",
   "execution_count": 4,
   "metadata": {},
   "outputs": [],
   "source": [
    "from langchain_community.retrievers import (\n",
    "    WeaviateHybridSearchRetriever,\n",
    ")\n",
    "\n",
    "from weaviate.classes.config import Configure\n",
    "\n",
    "index_name=\"JonsTest\"\n",
    "#just note, from_documents will dynamically create an index without a vectorizer.  you need a vectorizer to use the hybrid search retriever\n",
    "#index_name=\"LangChain_9ffcc707dbbf428d8c7e147134476d07\"\n"
   ]
  },
  {
   "cell_type": "code",
   "execution_count": null,
   "metadata": {},
   "outputs": [],
   "source": [
    "client.collections.create(\n",
    "    index_name,\n",
    "    #see notes above re: the docker modules that need to be enabled for text2vec* to work correctly -e ENABLE_MODULES=text2vec-ollama\n",
    "    vectorizer_config=Configure.Vectorizer.text2vec_ollama( \n",
    "        model=\"nomic-embed-text\",    \n",
    "        api_endpoint=\"http://host.docker.internal:11434\",\n",
    "    ),\n",
    "\n",
    ")"
   ]
  },
  {
   "cell_type": "code",
   "execution_count": null,
   "metadata": {},
   "outputs": [],
   "source": [
    "#misc doc list append debugging/tests to get open-webui functionality running \n",
    "\n",
    "collection = client.collections.get(index_name)\n",
    "\n",
    "docs = []\n",
    "\n",
    "response = collection.query.fetch_objects()\n",
    "for o in response.objects:\n",
    "     #print(o.properties[\"text\"])\n",
    "     #print(o)\n",
    "     #docs.append(o.properties[\"text\"])\n",
    "     docs.append(o)\n",
    "     #print(o)\n",
    "\n",
    "print(docs)"
   ]
  },
  {
   "cell_type": "code",
   "execution_count": null,
   "metadata": {},
   "outputs": [],
   "source": [
    "#this is the final docs debugging/test that was running to make sure a proper \"Document\" type was passed to the weaviate retriever.  \n",
    "#update - i later found out this was not necessary since the *from_documents call adds the doc to your collection\n",
    "\n",
    "from langchain_core.documents import Document\n",
    "\n",
    "docs = []\n",
    "\n",
    "for item in collection.iterator():\n",
    "    #print(item.uuid, item.properties.get(\"text\"))\n",
    "    #docs.append([,item.properties.get(\"text\"),item.properties])\n",
    "    docs.append(Document(uuid=item.uuid,page_content=item.properties.get(\"text\"),metadata=item.properties))\n",
    "\n",
    "print(docs)\n"
   ]
  },
  {
   "cell_type": "code",
   "execution_count": 98,
   "metadata": {},
   "outputs": [],
   "source": [
    "\n",
    "#ctrl click WeaviateHybridSearchRetriever to see available params (e.g. K, alpha, etc)...default alpha is .5 so override here to 0 if looking for pure keyword\n",
    "\n",
    "retriever = WeaviateHybridSearchRetriever(\n",
    "    client=weaviate_client,\n",
    "    index_name=index_name,\n",
    "    text_key=\"text\",\n",
    "    attributes=[],\n",
    "    create_schema_if_missing=True\n",
    ")\n"
   ]
  },
  {
   "cell_type": "code",
   "execution_count": null,
   "metadata": {},
   "outputs": [],
   "source": [
    "\n",
    "from langchain_community.document_loaders import TextLoader\n",
    "from langchain.text_splitter import CharacterTextSplitter #option to add recursive here\n",
    "\n",
    "loader = TextLoader(\"/home/jonot480/Documents/paulgraham.txt\")\n",
    "documents = loader.load()\n",
    "text_splitter = CharacterTextSplitter(chunk_size=100,chunk_overlap=0)\n",
    "docs = text_splitter.split_documents(documents)\n"
   ]
  },
  {
   "cell_type": "code",
   "execution_count": null,
   "metadata": {},
   "outputs": [],
   "source": [
    "#this is not needed in open-webui since we run the from_documents method to populate the collection.  \n",
    "#this just populates your retriever as a 1 off test\n",
    "retriever.add_documents(docs)"
   ]
  },
  {
   "cell_type": "code",
   "execution_count": null,
   "metadata": {},
   "outputs": [],
   "source": [
    "query = \"what is the effective date?\"\n",
    "result = retriever.invoke(query,score=True)\n",
    "\n",
    "#this result is a dictionary that is needed for the open-webui citations pieces...you need to specify score=True above or else the below will break\n",
    "#not sure why open-webui uses the double bracket in the dictionary....need to debug this on the citations piece\n",
    "\n",
    "result = {\n",
    "    \"distances\": [[d.metadata.get(\"score\") for d in result]],\n",
    "    \"documents\": [[d.page_content for d in result]],\n",
    "    \"metadatas\": [[d.metadata for d in result]],\n",
    "}\n",
    "\n",
    "print(result)"
   ]
  },
  {
   "cell_type": "code",
   "execution_count": null,
   "metadata": {},
   "outputs": [],
   "source": [
    "#random tests to see for open-webui is doing with their for d in result gets...basically a way to grab data from dictionary \n",
    "\n",
    "#print([d.metadata.get(\"_additional\") for d in result])\n",
    "#print([[d.metadata.get(\"_additional\").get('score') for d in result]]) #open-webui uses double brackets for some reason....haven't debugged why \n",
    "#print([d.page_content for d in result])\n",
    "#print([d.metadata for d in result])\n"
   ]
  }
 ],
 "metadata": {
  "kernelspec": {
   "display_name": "myenv",
   "language": "python",
   "name": "python3"
  },
  "language_info": {
   "codemirror_mode": {
    "name": "ipython",
    "version": 3
   },
   "file_extension": ".py",
   "mimetype": "text/x-python",
   "name": "python",
   "nbconvert_exporter": "python",
   "pygments_lexer": "ipython3",
   "version": "3.12.3"
  }
 },
 "nbformat": 4,
 "nbformat_minor": 2
}
